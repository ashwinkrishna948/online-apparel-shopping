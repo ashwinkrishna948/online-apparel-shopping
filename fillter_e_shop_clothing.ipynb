{
  "nbformat": 4,
  "nbformat_minor": 0,
  "metadata": {
    "colab": {
      "provenance": [],
      "authorship_tag": "ABX9TyPt5EWIzNN3RpPV+6tzaZ8b",
      "include_colab_link": true
    },
    "kernelspec": {
      "name": "python3",
      "display_name": "Python 3"
    },
    "language_info": {
      "name": "python"
    }
  },
  "cells": [
    {
      "cell_type": "markdown",
      "metadata": {
        "id": "view-in-github",
        "colab_type": "text"
      },
      "source": [
        "<a href=\"https://colab.research.google.com/github/YomnaAhmed97/E-shop-Clothing-PowerBi/blob/main/fillter_e_shop_clothing.ipynb\" target=\"_parent\"><img src=\"https://colab.research.google.com/assets/colab-badge.svg\" alt=\"Open In Colab\"/></a>"
      ]
    },
    {
      "cell_type": "code",
      "execution_count": null,
      "metadata": {
        "colab": {
          "base_uri": "https://localhost:8080/"
        },
        "id": "pVPGrkpk5HYh",
        "outputId": "abdd5053-7eec-4a52-fba4-bc08da01b681"
      },
      "outputs": [
        {
          "output_type": "stream",
          "name": "stdout",
          "text": [
            "Looking in indexes: https://pypi.org/simple, https://us-python.pkg.dev/colab-wheels/public/simple/\n",
            "Collecting opendatasets\n",
            "  Downloading opendatasets-0.1.22-py3-none-any.whl (15 kB)\n",
            "Requirement already satisfied: click in /usr/local/lib/python3.7/dist-packages (from opendatasets) (7.1.2)\n",
            "Requirement already satisfied: kaggle in /usr/local/lib/python3.7/dist-packages (from opendatasets) (1.5.12)\n",
            "Requirement already satisfied: tqdm in /usr/local/lib/python3.7/dist-packages (from opendatasets) (4.64.1)\n",
            "Requirement already satisfied: certifi in /usr/local/lib/python3.7/dist-packages (from kaggle->opendatasets) (2022.9.24)\n",
            "Requirement already satisfied: python-dateutil in /usr/local/lib/python3.7/dist-packages (from kaggle->opendatasets) (2.8.2)\n",
            "Requirement already satisfied: python-slugify in /usr/local/lib/python3.7/dist-packages (from kaggle->opendatasets) (6.1.2)\n",
            "Requirement already satisfied: requests in /usr/local/lib/python3.7/dist-packages (from kaggle->opendatasets) (2.23.0)\n",
            "Requirement already satisfied: urllib3 in /usr/local/lib/python3.7/dist-packages (from kaggle->opendatasets) (1.24.3)\n",
            "Requirement already satisfied: six>=1.10 in /usr/local/lib/python3.7/dist-packages (from kaggle->opendatasets) (1.15.0)\n",
            "Requirement already satisfied: text-unidecode>=1.3 in /usr/local/lib/python3.7/dist-packages (from python-slugify->kaggle->opendatasets) (1.3)\n",
            "Requirement already satisfied: chardet<4,>=3.0.2 in /usr/local/lib/python3.7/dist-packages (from requests->kaggle->opendatasets) (3.0.4)\n",
            "Requirement already satisfied: idna<3,>=2.5 in /usr/local/lib/python3.7/dist-packages (from requests->kaggle->opendatasets) (2.10)\n",
            "Installing collected packages: opendatasets\n",
            "Successfully installed opendatasets-0.1.22\n"
          ]
        }
      ],
      "source": [
        "!pip install opendatasets\n"
      ]
    },
    {
      "cell_type": "code",
      "source": [
        "import opendatasets as od\n",
        "import pandas as pd\n",
        "\n",
        "  \n",
        "od.download(\n",
        "    \"https://www.kaggle.com/datasets/adityawisnugrahas/eshop-clothing-dataset\")"
      ],
      "metadata": {
        "colab": {
          "base_uri": "https://localhost:8080/"
        },
        "id": "2s4hlcfG5Tw0",
        "outputId": "95c345ba-9273-435e-bab6-30a429ee3a26"
      },
      "execution_count": null,
      "outputs": [
        {
          "output_type": "stream",
          "name": "stdout",
          "text": [
            "Please provide your Kaggle credentials to download this dataset. Learn more: http://bit.ly/kaggle-creds\n",
            "Your Kaggle username: yomnazali\n",
            "Your Kaggle Key: ··········\n",
            "Downloading eshop-clothing-dataset.zip to ./eshop-clothing-dataset\n"
          ]
        },
        {
          "output_type": "stream",
          "name": "stderr",
          "text": [
            "100%|██████████| 866k/866k [00:00<00:00, 68.1MB/s]"
          ]
        },
        {
          "output_type": "stream",
          "name": "stdout",
          "text": [
            "\n"
          ]
        },
        {
          "output_type": "stream",
          "name": "stderr",
          "text": [
            "\n"
          ]
        }
      ]
    },
    {
      "cell_type": "code",
      "source": [
        "df = pd.read_csv('/content/eshop-clothing-dataset/e-shop clothing 2008.csv')"
      ],
      "metadata": {
        "id": "jdXt5Oiw5pWe"
      },
      "execution_count": null,
      "outputs": []
    },
    {
      "cell_type": "code",
      "source": [
        "df.head()"
      ],
      "metadata": {
        "colab": {
          "base_uri": "https://localhost:8080/",
          "height": 206
        },
        "id": "NC9w3sPC6aCZ",
        "outputId": "00472ac8-a97f-4916-e683-e9468ace4200"
      },
      "execution_count": null,
      "outputs": [
        {
          "output_type": "execute_result",
          "data": {
            "text/plain": [
              "   year  month  day  order  country  session ID  page 1 (main category)  \\\n",
              "0  2008      4    1      1       29           1                       1   \n",
              "1  2008      4    1      2       29           1                       1   \n",
              "2  2008      4    1      3       29           1                       2   \n",
              "3  2008      4    1      4       29           1                       2   \n",
              "4  2008      4    1      5       29           1                       2   \n",
              "\n",
              "  page 2 (clothing model)  colour  location  model photography  price  \\\n",
              "0                     A13       1         5                  1     28   \n",
              "1                     A16       1         6                  1     33   \n",
              "2                      B4      10         2                  1     52   \n",
              "3                     B17       6         6                  2     38   \n",
              "4                      B8       4         3                  2     52   \n",
              "\n",
              "   price 2  page  \n",
              "0        2     1  \n",
              "1        2     1  \n",
              "2        1     1  \n",
              "3        2     1  \n",
              "4        1     1  "
            ],
            "text/html": [
              "\n",
              "  <div id=\"df-a21da20e-9060-410f-90d1-0be677847f7d\">\n",
              "    <div class=\"colab-df-container\">\n",
              "      <div>\n",
              "<style scoped>\n",
              "    .dataframe tbody tr th:only-of-type {\n",
              "        vertical-align: middle;\n",
              "    }\n",
              "\n",
              "    .dataframe tbody tr th {\n",
              "        vertical-align: top;\n",
              "    }\n",
              "\n",
              "    .dataframe thead th {\n",
              "        text-align: right;\n",
              "    }\n",
              "</style>\n",
              "<table border=\"1\" class=\"dataframe\">\n",
              "  <thead>\n",
              "    <tr style=\"text-align: right;\">\n",
              "      <th></th>\n",
              "      <th>year</th>\n",
              "      <th>month</th>\n",
              "      <th>day</th>\n",
              "      <th>order</th>\n",
              "      <th>country</th>\n",
              "      <th>session ID</th>\n",
              "      <th>page 1 (main category)</th>\n",
              "      <th>page 2 (clothing model)</th>\n",
              "      <th>colour</th>\n",
              "      <th>location</th>\n",
              "      <th>model photography</th>\n",
              "      <th>price</th>\n",
              "      <th>price 2</th>\n",
              "      <th>page</th>\n",
              "    </tr>\n",
              "  </thead>\n",
              "  <tbody>\n",
              "    <tr>\n",
              "      <th>0</th>\n",
              "      <td>2008</td>\n",
              "      <td>4</td>\n",
              "      <td>1</td>\n",
              "      <td>1</td>\n",
              "      <td>29</td>\n",
              "      <td>1</td>\n",
              "      <td>1</td>\n",
              "      <td>A13</td>\n",
              "      <td>1</td>\n",
              "      <td>5</td>\n",
              "      <td>1</td>\n",
              "      <td>28</td>\n",
              "      <td>2</td>\n",
              "      <td>1</td>\n",
              "    </tr>\n",
              "    <tr>\n",
              "      <th>1</th>\n",
              "      <td>2008</td>\n",
              "      <td>4</td>\n",
              "      <td>1</td>\n",
              "      <td>2</td>\n",
              "      <td>29</td>\n",
              "      <td>1</td>\n",
              "      <td>1</td>\n",
              "      <td>A16</td>\n",
              "      <td>1</td>\n",
              "      <td>6</td>\n",
              "      <td>1</td>\n",
              "      <td>33</td>\n",
              "      <td>2</td>\n",
              "      <td>1</td>\n",
              "    </tr>\n",
              "    <tr>\n",
              "      <th>2</th>\n",
              "      <td>2008</td>\n",
              "      <td>4</td>\n",
              "      <td>1</td>\n",
              "      <td>3</td>\n",
              "      <td>29</td>\n",
              "      <td>1</td>\n",
              "      <td>2</td>\n",
              "      <td>B4</td>\n",
              "      <td>10</td>\n",
              "      <td>2</td>\n",
              "      <td>1</td>\n",
              "      <td>52</td>\n",
              "      <td>1</td>\n",
              "      <td>1</td>\n",
              "    </tr>\n",
              "    <tr>\n",
              "      <th>3</th>\n",
              "      <td>2008</td>\n",
              "      <td>4</td>\n",
              "      <td>1</td>\n",
              "      <td>4</td>\n",
              "      <td>29</td>\n",
              "      <td>1</td>\n",
              "      <td>2</td>\n",
              "      <td>B17</td>\n",
              "      <td>6</td>\n",
              "      <td>6</td>\n",
              "      <td>2</td>\n",
              "      <td>38</td>\n",
              "      <td>2</td>\n",
              "      <td>1</td>\n",
              "    </tr>\n",
              "    <tr>\n",
              "      <th>4</th>\n",
              "      <td>2008</td>\n",
              "      <td>4</td>\n",
              "      <td>1</td>\n",
              "      <td>5</td>\n",
              "      <td>29</td>\n",
              "      <td>1</td>\n",
              "      <td>2</td>\n",
              "      <td>B8</td>\n",
              "      <td>4</td>\n",
              "      <td>3</td>\n",
              "      <td>2</td>\n",
              "      <td>52</td>\n",
              "      <td>1</td>\n",
              "      <td>1</td>\n",
              "    </tr>\n",
              "  </tbody>\n",
              "</table>\n",
              "</div>\n",
              "      <button class=\"colab-df-convert\" onclick=\"convertToInteractive('df-a21da20e-9060-410f-90d1-0be677847f7d')\"\n",
              "              title=\"Convert this dataframe to an interactive table.\"\n",
              "              style=\"display:none;\">\n",
              "        \n",
              "  <svg xmlns=\"http://www.w3.org/2000/svg\" height=\"24px\"viewBox=\"0 0 24 24\"\n",
              "       width=\"24px\">\n",
              "    <path d=\"M0 0h24v24H0V0z\" fill=\"none\"/>\n",
              "    <path d=\"M18.56 5.44l.94 2.06.94-2.06 2.06-.94-2.06-.94-.94-2.06-.94 2.06-2.06.94zm-11 1L8.5 8.5l.94-2.06 2.06-.94-2.06-.94L8.5 2.5l-.94 2.06-2.06.94zm10 10l.94 2.06.94-2.06 2.06-.94-2.06-.94-.94-2.06-.94 2.06-2.06.94z\"/><path d=\"M17.41 7.96l-1.37-1.37c-.4-.4-.92-.59-1.43-.59-.52 0-1.04.2-1.43.59L10.3 9.45l-7.72 7.72c-.78.78-.78 2.05 0 2.83L4 21.41c.39.39.9.59 1.41.59.51 0 1.02-.2 1.41-.59l7.78-7.78 2.81-2.81c.8-.78.8-2.07 0-2.86zM5.41 20L4 18.59l7.72-7.72 1.47 1.35L5.41 20z\"/>\n",
              "  </svg>\n",
              "      </button>\n",
              "      \n",
              "  <style>\n",
              "    .colab-df-container {\n",
              "      display:flex;\n",
              "      flex-wrap:wrap;\n",
              "      gap: 12px;\n",
              "    }\n",
              "\n",
              "    .colab-df-convert {\n",
              "      background-color: #E8F0FE;\n",
              "      border: none;\n",
              "      border-radius: 50%;\n",
              "      cursor: pointer;\n",
              "      display: none;\n",
              "      fill: #1967D2;\n",
              "      height: 32px;\n",
              "      padding: 0 0 0 0;\n",
              "      width: 32px;\n",
              "    }\n",
              "\n",
              "    .colab-df-convert:hover {\n",
              "      background-color: #E2EBFA;\n",
              "      box-shadow: 0px 1px 2px rgba(60, 64, 67, 0.3), 0px 1px 3px 1px rgba(60, 64, 67, 0.15);\n",
              "      fill: #174EA6;\n",
              "    }\n",
              "\n",
              "    [theme=dark] .colab-df-convert {\n",
              "      background-color: #3B4455;\n",
              "      fill: #D2E3FC;\n",
              "    }\n",
              "\n",
              "    [theme=dark] .colab-df-convert:hover {\n",
              "      background-color: #434B5C;\n",
              "      box-shadow: 0px 1px 3px 1px rgba(0, 0, 0, 0.15);\n",
              "      filter: drop-shadow(0px 1px 2px rgba(0, 0, 0, 0.3));\n",
              "      fill: #FFFFFF;\n",
              "    }\n",
              "  </style>\n",
              "\n",
              "      <script>\n",
              "        const buttonEl =\n",
              "          document.querySelector('#df-a21da20e-9060-410f-90d1-0be677847f7d button.colab-df-convert');\n",
              "        buttonEl.style.display =\n",
              "          google.colab.kernel.accessAllowed ? 'block' : 'none';\n",
              "\n",
              "        async function convertToInteractive(key) {\n",
              "          const element = document.querySelector('#df-a21da20e-9060-410f-90d1-0be677847f7d');\n",
              "          const dataTable =\n",
              "            await google.colab.kernel.invokeFunction('convertToInteractive',\n",
              "                                                     [key], {});\n",
              "          if (!dataTable) return;\n",
              "\n",
              "          const docLinkHtml = 'Like what you see? Visit the ' +\n",
              "            '<a target=\"_blank\" href=https://colab.research.google.com/notebooks/data_table.ipynb>data table notebook</a>'\n",
              "            + ' to learn more about interactive tables.';\n",
              "          element.innerHTML = '';\n",
              "          dataTable['output_type'] = 'display_data';\n",
              "          await google.colab.output.renderOutput(dataTable, element);\n",
              "          const docLink = document.createElement('div');\n",
              "          docLink.innerHTML = docLinkHtml;\n",
              "          element.appendChild(docLink);\n",
              "        }\n",
              "      </script>\n",
              "    </div>\n",
              "  </div>\n",
              "  "
            ]
          },
          "metadata": {},
          "execution_count": 7
        }
      ]
    },
    {
      "cell_type": "code",
      "source": [
        "df.info()"
      ],
      "metadata": {
        "colab": {
          "base_uri": "https://localhost:8080/"
        },
        "id": "K7aXs6rZ6ieI",
        "outputId": "a4d61c2a-fd51-487e-db2b-0f1ea1bee13e"
      },
      "execution_count": null,
      "outputs": [
        {
          "output_type": "stream",
          "name": "stdout",
          "text": [
            "<class 'pandas.core.frame.DataFrame'>\n",
            "RangeIndex: 165474 entries, 0 to 165473\n",
            "Data columns (total 14 columns):\n",
            " #   Column                   Non-Null Count   Dtype \n",
            "---  ------                   --------------   ----- \n",
            " 0   year                     165474 non-null  int64 \n",
            " 1   month                    165474 non-null  int64 \n",
            " 2   day                      165474 non-null  int64 \n",
            " 3   order                    165474 non-null  int64 \n",
            " 4   country                  165474 non-null  int64 \n",
            " 5   session ID               165474 non-null  int64 \n",
            " 6   page 1 (main category)   165474 non-null  int64 \n",
            " 7   page 2 (clothing model)  165474 non-null  object\n",
            " 8   colour                   165474 non-null  int64 \n",
            " 9   location                 165474 non-null  int64 \n",
            " 10  model photography        165474 non-null  int64 \n",
            " 11  price                    165474 non-null  int64 \n",
            " 12  price 2                  165474 non-null  int64 \n",
            " 13  page                     165474 non-null  int64 \n",
            "dtypes: int64(13), object(1)\n",
            "memory usage: 17.7+ MB\n"
          ]
        }
      ]
    },
    {
      "cell_type": "code",
      "source": [
        "country_map = {\n",
        "    \"1\": \"Australia\",\n",
        "    \"2\": \"Austria\",\n",
        "    \"3\": \"Belgium\",\n",
        "    \"4\": \"British Virgin Islands\",\n",
        "    \"5\": \"Cayman Islands\",\n",
        "    \"6\": \"Christmas Island\",\n",
        "    '7': \"Croatia\",\n",
        "    '8': \"Cyprus\",\n",
        "    '9': \"Czech Republic\",\n",
        "    '10': \"Denmark\",\n",
        "    \"11\": \"Estonia\",\n",
        "    \"12\": \"unidentified\",\n",
        "    \"13\": \"Faroe Islands\",\n",
        "    \"14\": \"Finland\",\n",
        "    \"15\": \"France\",\n",
        "    \"16\": \"Germany\",\n",
        "    '17': \"Greece\",\n",
        "    \"18\": \"Hungary\",\n",
        "    \"19\": \"Iceland\",\n",
        "    \"20\": \"India\",\n",
        "    \"21\": \"Ireland\",\n",
        "    \"22\": \"Italy\",\n",
        "    \"23\": \"Latvia\",\n",
        "    \"24\": \"Lithuania\",\n",
        "    \"25\": \"Luxembourg\",\n",
        "    \"26\": \"Mexico\",\n",
        "    \"27\": \"Netherlands\",\n",
        "    \"28\": \"Norway\",\n",
        "    \"29\": \"Poland\",\n",
        "    \"30\": \"Portugal\",\n",
        "    \"31\": \"Romania\",\n",
        "    '32': \"Russia\",\n",
        "    '33': \"San Marion\",\n",
        "    \"34\": \"Slovakia\",\n",
        "    \"35\": \"Slovenia\",\n",
        "    \"36\": \"Spain\",\n",
        "    '37': \"Sweden\",\n",
        "    \"38\": \"Switzerland\",\n",
        "    \"39\": \"Ukraine\",\n",
        "    \"40\": \"United Arab Emirates\",\n",
        "    \"41\": \"United Kingdom\",\n",
        "    \"42\": \"USA\",\n",
        "    \"43\": \"biz (.biz)\",\n",
        "    \"44\": \"com (.com)\",\n",
        "    \"45\": \"int (.int)\",\n",
        "    \"46\": \"net (.net)\",\n",
        "    \"47\": \"org (*.org)\"\n",
        "}"
      ],
      "metadata": {
        "id": "n2u1jPoj6t0q"
      },
      "execution_count": null,
      "outputs": []
    },
    {
      "cell_type": "code",
      "source": [
        "df['country'] = df['country'].astype(\"string\")\n",
        "df[\"country\"] = df[\"country\"].map(country_map)"
      ],
      "metadata": {
        "id": "scscMDAx615i"
      },
      "execution_count": null,
      "outputs": []
    },
    {
      "cell_type": "code",
      "source": [
        "page1_map = {\n",
        "    1: \"trousers\",\n",
        "    2: \"skirts\",\n",
        "    3: \"blouses\",\n",
        "    4: \"sale\"\n",
        "}\n",
        "df[\"page 1 (main category)\"] = df[\"page 1 (main category)\"].map(page1_map)"
      ],
      "metadata": {
        "id": "ZEjEFikF64b5"
      },
      "execution_count": null,
      "outputs": []
    },
    {
      "cell_type": "code",
      "source": [
        "location_map = {\n",
        "    1: \"top left\",\n",
        "    2: \"top in the middle\",\n",
        "    3: \"top right\",\n",
        "    4: 'bottom left',\n",
        "    5: \"bottom in the middle\",\n",
        "    6: \"bottom right\"\n",
        "}\n",
        "\n",
        "df[\"location\"] = df[\"location\"].map(location_map)"
      ],
      "metadata": {
        "id": "JIQOI1UN67FC"
      },
      "execution_count": null,
      "outputs": []
    },
    {
      "cell_type": "code",
      "source": [
        "color_map = {\n",
        "    1: \"beige\",\n",
        "    2: \"black\",\n",
        "    3: \"blue\",\n",
        "    4: \"brown\",\n",
        "    5: \"burgundy\",\n",
        "    6: \"gray\",\n",
        "    7: \"green\",\n",
        "    8: \"navy blue\",\n",
        "    9: \"of many colors\",\n",
        "    10: \"olive\",\n",
        "    11: \"pink\",\n",
        "    12: \"red\",\n",
        "    13: \"violet\",\n",
        "    14: \"white\"\n",
        "}\n",
        "\n",
        "df[\"colour\"] = df[\"colour\"].map(color_map)"
      ],
      "metadata": {
        "id": "TlMJxo8D6-Kw"
      },
      "execution_count": null,
      "outputs": []
    },
    {
      "cell_type": "code",
      "source": [
        "model_map = {\n",
        "    1: \"En face\",\n",
        "    2: \"Profile\"}\n",
        "\n",
        "df[\"model photography\"] = df[\"model photography\"].map(model_map)"
      ],
      "metadata": {
        "id": "GVW9k6cW7AoU"
      },
      "execution_count": null,
      "outputs": []
    },
    {
      "cell_type": "code",
      "source": [
        "month_map = {\n",
        "    4: \"April\",\n",
        "    5: \"May\",\n",
        "    6: \"June\",\n",
        "    7: \"July\",\n",
        "    8: \"August\",\n",
        "}\n",
        "\n",
        "df[\"month\"] = df[\"month\"].map(month_map)\n"
      ],
      "metadata": {
        "id": "IYGrwx6l7GZj"
      },
      "execution_count": null,
      "outputs": []
    },
    {
      "cell_type": "code",
      "source": [
        "df.drop('session ID', axis=1, inplace=True)"
      ],
      "metadata": {
        "id": "LGobEvje7J9E"
      },
      "execution_count": null,
      "outputs": []
    },
    {
      "cell_type": "code",
      "source": [
        "df.to_csv('E-Shop clothing filtering.csv')"
      ],
      "metadata": {
        "id": "qoQ_orBl7XIg"
      },
      "execution_count": null,
      "outputs": []
    },
    {
      "cell_type": "code",
      "source": [],
      "metadata": {
        "id": "ZZfeg23z7n5B"
      },
      "execution_count": null,
      "outputs": []
    }
  ]
}